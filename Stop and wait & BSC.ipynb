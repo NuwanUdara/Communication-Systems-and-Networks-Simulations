{
  "nbformat": 4,
  "nbformat_minor": 0,
  "metadata": {
    "colab": {
      "name": "Copy of communication report",
      "provenance": [],
      "collapsed_sections": []
    },
    "kernelspec": {
      "name": "python3",
      "display_name": "Python 3"
    },
    "language_info": {
      "name": "python"
    }
  },
  "cells": [
    {
      "cell_type": "markdown",
      "metadata": {
        "id": "SGDMeibAi3T2"
      },
      "source": [
        "<center>\n",
        "<img src=\"https://drive.google.com/uc?export=view&id=1jkD3GL8CPA-XT9CIl-urSvuHMQXq4bEO\" width=\"500\"  style=\"vertical-align:middle\">"
      ]
    },
    {
      "cell_type": "markdown",
      "metadata": {
        "id": "pGbp09bcnKVA"
      },
      "source": [
        "$$ \\Large EN2053 - Communication \\space Systems\\space and \\space Networks $$\n",
        "\n",
        "$$ Assignment \\space 1$$\n",
        "<hr>\n",
        "\n",
        "\n",
        "\n",
        "<center><em>190388D M.M. Mathotaarachchi</em></center><br>\n",
        "\n",
        "<center><em> 190636M A.G.N. Udara </em></center><br>\n",
        "\n",
        "<center><em> 190423H M.N.M. Nushath  </em></center><br>\n",
        "\n",
        "<hr>"
      ]
    },
    {
      "cell_type": "markdown",
      "metadata": {
        "id": "R3-NcGhgrgUe"
      },
      "source": [
        "\n",
        "\n",
        "<h1><center><em>Intoduction</em></center></h1>\n",
        "\n",
        "\n",
        "For this assignment we are going to use Python to simulate and calculate required scenarios and visualize the practiacl aspects of a communication system.\n",
        "\n",
        "$\\color{red}{\\text{ We are using Jupiter notebook to create this documant.}}$"
      ]
    },
    {
      "cell_type": "markdown",
      "metadata": {
        "id": "pez5SCcwF00o"
      },
      "source": [
        "<hr>\n",
        "\n",
        "<h1><center><em> Method</em></center></h1>\n",
        "\n",
        "Now we will take step by step approch to simulate all the given scenarios."
      ]
    },
    {
      "cell_type": "markdown",
      "metadata": {
        "id": "1HRdX94YsMPE"
      },
      "source": [
        "\n",
        "\n",
        "<hr>\n",
        "\n",
        "$Question \\space a$\n",
        "\n",
        "To interprite a CRC encoder and a decoder, we need to follow common essential step of doing modulas 2 division between two binray codewords. So we will define a function for this action, named $mod2div$ with two input parameters. First one is the Dividend, and the second one is the Divisor. Also the mentioned function will need an additioal function to do bitwise XOR for two string variables, it is defined as $mod2add$"
      ]
    },
    {
      "cell_type": "code",
      "metadata": {
        "id": "5Bo9n_gJiYh6"
      },
      "source": [
        "def mod2add(a, b):\n",
        "    output = []\n",
        "\n",
        "    ###bitwise xor\n",
        "    for i in range(1, len(b)):\n",
        "        if a[i] == b[i]:\n",
        "            output.append('0')\n",
        "        else:\n",
        "            output.append('1')\n",
        "\n",
        "    return ''.join(output)\n",
        "\n",
        "\n",
        "def mod2div(divident, divisor):\n",
        "    var = len(divisor)\n",
        "    ## slice the divident upto the length of divisor\n",
        "    temp = divident[0: var]\n",
        "\n",
        "    while var < len(divident):\n",
        "\n",
        "        if temp[0] == '1':\n",
        "\n",
        "            ## implement the modulo 2 addition \n",
        "            ## and bring 1 bit down\n",
        "            temp = mod2add(divisor, temp) + divident[var]\n",
        "\n",
        "        ## if the leftmost bit is 0 then \n",
        "        ## we must use divisor with zeros only\n",
        "        else:  \n",
        "            temp = mod2add('0' * var, temp) + divident[var]\n",
        "\n",
        "        # increment var\n",
        "        var += 1\n",
        "\n",
        "    ## with modulo 2 addition we can \n",
        "    ## end up with the reminder\n",
        "    if temp[0] == '1':\n",
        "        temp = mod2add(divisor, temp)\n",
        "    else:\n",
        "        temp = mod2add('0' * var, temp)\n",
        "\n",
        "    checkword = temp\n",
        "    return checkword"
      ],
      "execution_count": 1,
      "outputs": []
    },
    {
      "cell_type": "markdown",
      "metadata": {
        "id": "AFZGZXFkxd3S"
      },
      "source": [
        "<b>Here, we will compare bit lengths and calculate only remainder. It will give us the remainder as the output.</b>"
      ]
    },
    {
      "cell_type": "markdown",
      "metadata": {
        "id": "kxR8yC-exewF"
      },
      "source": [
        "Now we can easily define $encode$ and the $decode$ functions with the use of above $mod2div$ function.\n",
        "\n",
        "In the $encode$ funtion you have to give the two parameters, the data and the Divisor respectively.\n",
        "\n",
        "And in the $decode$ function you have to give the codeword and the Divisor respectively."
      ]
    },
    {
      "cell_type": "code",
      "metadata": {
        "id": "TmBxxHBkx9dn"
      },
      "source": [
        "def encode(dataword,divisor):\n",
        "  ## encode the dataword \n",
        "  ## using CRC w.r.t common divisor\n",
        "\n",
        "  ## adding zeros to the end\n",
        "  dividend=dataword + (\"0\"*(len(divisor)-1))\n",
        "\n",
        "  ## using modulo 2 divition, find the reminder\n",
        "  rem=mod2div(dividend,divisor)\n",
        "\n",
        "  ## add the reminder to the end of dataword\n",
        "  ## instead of zeros, output the encoded codeword\n",
        "  codeword=dataword+rem\n",
        "  return (codeword) \n",
        "\n",
        "\n",
        "def decode(codeword,divisor): \n",
        "  ## take the encoded codeword and check for errors\n",
        "  ## and return the decoded dataword\n",
        "\n",
        "  ## with modulo 2 divition check\n",
        "  ## wether syndrome is zero(error occured)\n",
        "  syndrome=mod2div(codeword,divisor)\n",
        "\n",
        "  if syndrome==\"0\"*(len(divisor)-1):\n",
        "    ## output dataword by removing the extra bits\n",
        "    return codeword[0:(len(codeword)-len(divisor)+1)], syndrome\n",
        "  else:\n",
        "    ## output error string when error occured\n",
        "    return 'error', syndrome"
      ],
      "execution_count": 2,
      "outputs": []
    },
    {
      "cell_type": "markdown",
      "metadata": {
        "id": "gquMSTa-ya4O"
      },
      "source": [
        "<b>The $encode$ function will take the dataword and the Divisor and genarate the CRC using the $mod2div$ and attach it to the end of the dataword and return the genarated codeword.</b>\n",
        "\n",
        "<b>The $decode$ function will take the received codeword and the comman Divisor, after that it will check the syndrom to check whether the received code is corrupted or not. If not corrupted, return the extracted dataword and the syndrom, If it is corrupted, return \"error\" and the syndrom.</b>"
      ]
    },
    {
      "cell_type": "markdown",
      "metadata": {
        "id": "x7eXIbqryk2j"
      },
      "source": [
        "<hr>\n",
        "\n",
        "$Question \\space b$\n",
        "\n",
        "Now we will try above function $encode$ and find the CRC, with the sample data given\n",
        "\n",
        "*   Dataword :- $101001111$\n",
        "*   Divisor :- $10111$\n"
      ]
    },
    {
      "cell_type": "code",
      "metadata": {
        "id": "aoeQtZRPzC-T",
        "colab": {
          "base_uri": "https://localhost:8080/"
        },
        "outputId": "d797c2bc-cf7c-4801-e24c-b7130b08db89"
      },
      "source": [
        "dataword ='101001111'\n",
        "divisor ='10111'\n",
        "codeword=encode(dataword,divisor)\n",
        "print(codeword)"
      ],
      "execution_count": 3,
      "outputs": [
        {
          "output_type": "stream",
          "name": "stdout",
          "text": [
            "1010011110101\n"
          ]
        }
      ]
    },
    {
      "cell_type": "markdown",
      "metadata": {
        "id": "GFF_PQPxz-a3"
      },
      "source": [
        "<b>For the given sample data, this will print the CRC code</b>"
      ]
    },
    {
      "cell_type": "markdown",
      "metadata": {
        "id": "o81BkBWv0Sab"
      },
      "source": [
        "<hr>\n",
        "\n",
        "$Question \\space c$\n",
        "\n",
        "Now we will test the $decode$ function under error free mode and find show that it is actually error free. Here we will use the Divider given above and the codeword genrated by the $encode$ above."
      ]
    },
    {
      "cell_type": "code",
      "metadata": {
        "id": "4PwD3_kD0lRh",
        "colab": {
          "base_uri": "https://localhost:8080/"
        },
        "outputId": "cdc60854-1335-44a6-d365-33a58c6a6f56"
      },
      "source": [
        "dataword, syndrome = decode(codeword,divisor)\n",
        "print(f'Dataword: {dataword}')\n",
        "print(f'Syndrome: {syndrome}')"
      ],
      "execution_count": 4,
      "outputs": [
        {
          "output_type": "stream",
          "name": "stdout",
          "text": [
            "Dataword: 101001111\n",
            "Syndrome: 0000\n"
          ]
        }
      ]
    },
    {
      "cell_type": "markdown",
      "metadata": {
        "id": "PE_HNNIR1BiJ"
      },
      "source": [
        "<b>Since we did not introduce any errors to the genarated codeword, there will be no errors at the receiving end so, the decoder will not detect any errors</b>"
      ]
    },
    {
      "cell_type": "markdown",
      "metadata": {
        "id": "dFsLr3081H0w"
      },
      "source": [
        "<hr>\n",
        "\n",
        "$Question \\space d$\n",
        "\n",
        "To impliment a Binary symmetric channel (BSC) with a given error probality for a each bit in a codeword, we will defie a function $BSC$. It will take 2 parameters. The codeword and the bit error probability. This will genrate a new codeword with possible bit errors.\n"
      ]
    },
    {
      "cell_type": "code",
      "metadata": {
        "id": "7TdqQY5gx67n"
      },
      "source": [
        "import random"
      ],
      "execution_count": 5,
      "outputs": []
    },
    {
      "cell_type": "code",
      "metadata": {
        "id": "11RlfJWR9n9v"
      },
      "source": [
        "def BSC(codeword,p):\n",
        "  # initialize result\n",
        "  result = \"\"\n",
        "  \n",
        "  ## bitwise error will occure with the\n",
        "  ## prob of p\n",
        "  for bit in codeword:\n",
        "    \n",
        "    ## error will occure in random\n",
        "    if random.random()<p:\n",
        "      if bit==\"0\":\n",
        "        result+=\"1\"\n",
        "      else:\n",
        "        result+=\"0\"\n",
        "      #flip the bit\n",
        "      \n",
        "    else:\n",
        "      ## if no error same bit will be replaced\n",
        "      result+=bit\n",
        "  return result"
      ],
      "execution_count": 6,
      "outputs": []
    },
    {
      "cell_type": "markdown",
      "metadata": {
        "id": "57NrY3b_9qyF"
      },
      "source": [
        "<b>Here, to impliment a random varible, we are using the built-in $random$ library. It ( $random.random()$ function ) will generate a random float between 0 and 1, including 0. With our given bit error probaility, we will compare this value and take whether a bit error occurred or not.</b> \n",
        "<em>The value of p should be within 0,1 range</em>"
      ]
    },
    {
      "cell_type": "markdown",
      "metadata": {
        "id": "UijbNec698nu"
      },
      "source": [
        "<hr>\n",
        "\n",
        "$Question \\space e$\n",
        "\n",
        "Now given that bit error probaility $p=0.5$ impliment a connection between $encode,\\, decode$ using the $BSC$ function, for the given dataword and divider above.\n"
      ]
    },
    {
      "cell_type": "code",
      "metadata": {
        "id": "iJRvA_QDAqOc",
        "colab": {
          "base_uri": "https://localhost:8080/"
        },
        "outputId": "79c4f546-d4b0-4ab3-df34-93e3ec16f446"
      },
      "source": [
        "p=0.5\n",
        "print(codeword)\n",
        "recieved_Codeword = BSC(codeword, p)\n",
        "dataword, syndrome = decode(recieved_Codeword, divisor)\n",
        "print(f'Dataword: {dataword}')\n",
        "print(f'Syndrome: {syndrome}')"
      ],
      "execution_count": 7,
      "outputs": [
        {
          "output_type": "stream",
          "name": "stdout",
          "text": [
            "1010011110101\n",
            "Dataword: error\n",
            "Syndrome: 0001\n"
          ]
        }
      ]
    },
    {
      "cell_type": "markdown",
      "metadata": {
        "id": "rKBcZhdAAsmn"
      },
      "source": [
        "<b>Since we introduced a bit error for the connection between sender and reciver, Now there is a possibility of error occurance. Here we get a non-zero remainder becouse of this.</b>"
      ]
    },
    {
      "cell_type": "markdown",
      "metadata": {
        "id": "0Gl83DCkAwmW"
      },
      "source": [
        "<hr>\n",
        "\n",
        "$Question \\space f$\n",
        "\n",
        "Now we will generate random datawords with 9bits. The generated datawords are stored in string form inside a list containing all 1,000 datawords.\n",
        "These will be encoded and will be transmitted though the $BSC$.We are using the same divisor as befor for the encoding."
      ]
    },
    {
      "cell_type": "code",
      "metadata": {
        "id": "j7ABRDW9AvV9"
      },
      "source": [
        "binary_seq_A=['{0:09b}'.format(random.getrandbits(9)) for i in range(1000) ] ## genrate 10^3 datawods with 9 bits.\n"
      ],
      "execution_count": 8,
      "outputs": []
    },
    {
      "cell_type": "markdown",
      "metadata": {
        "id": "kiuBW6mXHx0G"
      },
      "source": [
        "<b> Here we genarate 9bit codewords. Note that the bitwords can have \"0' in the front.</b>"
      ]
    },
    {
      "cell_type": "code",
      "metadata": {
        "id": "r8J-e0pJH2R6"
      },
      "source": [
        "binary_encoded_seq_A=[encode(i, divisor) for i in binary_seq_A] ##encode and store for the late use"
      ],
      "execution_count": 9,
      "outputs": []
    },
    {
      "cell_type": "markdown",
      "metadata": {
        "id": "brVhT45cKBtN"
      },
      "source": [
        "<b>These generated datawords are encoded in the 2nd line.</b>"
      ]
    },
    {
      "cell_type": "markdown",
      "metadata": {
        "id": "0uAWZdipH-mu"
      },
      "source": [
        "We will calculate error rates using formula,\n",
        "\n",
        "$$\\frac{N_e}{10^3}$$\n",
        "\n",
        "$N_e$ stands for the number of codewords that got corrupted while traveling through our $BSC$ with the given error probaility.\n",
        "\n",
        "The $error\\_rate$ function will take the encoded binary sequance, divisor and the bit error probability in the $BSC$. It will first send the data through the $BSC$ and then chack for errors by decoding. "
      ]
    },
    {
      "cell_type": "code",
      "metadata": {
        "id": "qH57CBsw235m"
      },
      "source": [
        "def error_rate(binary_seq,divisor,p):\n",
        "  Ne=0\n",
        "  received_binary_seq=[]\n",
        "  for i in binary_seq:    \n",
        "    received_i = BSC(i,p)  #send the respective codewords\n",
        "    received_binary_seq.append(received_i)\n",
        "\n",
        "  for j in received_binary_seq: #check the state of codewods at the end\n",
        "    dataword = decode(j,divisor)[0] #remove the syndrom and take codeword\n",
        "    if dataword == 'error': #If there is an error\n",
        "      Ne += 1\n",
        "\n",
        "  error_rate = Ne/(10**3) #take the error rate\n",
        "  return error_rate"
      ],
      "execution_count": 10,
      "outputs": []
    },
    {
      "cell_type": "markdown",
      "metadata": {
        "id": "vdxQMgeI5PRu"
      },
      "source": [
        "<b> This will return error rate directly.</b>"
      ]
    },
    {
      "cell_type": "markdown",
      "metadata": {
        "id": "cBD17TW42_01"
      },
      "source": [
        "These codewords are now will be transmitted through the $BSC$ with the error probailities from $0$ to $0.1$ in $0.01$ increments. There will be total of 11 deferent scenarios. "
      ]
    },
    {
      "cell_type": "code",
      "metadata": {
        "id": "RWB-TktOJ9ox",
        "colab": {
          "base_uri": "https://localhost:8080/"
        },
        "outputId": "e3de0939-80cc-4bd4-ef41-4418a5fb7f62"
      },
      "source": [
        "error_rates_list=[]\n",
        "for i in range(0,11):\n",
        "  p=i*0.01\n",
        "  error_rates_list.append(error_rate(binary_encoded_seq_A, divisor, p))\n",
        "print(error_rates_list)"
      ],
      "execution_count": 11,
      "outputs": [
        {
          "output_type": "stream",
          "name": "stdout",
          "text": [
            "[0.0, 0.119, 0.236, 0.35, 0.379, 0.475, 0.554, 0.584, 0.637, 0.693, 0.718]\n"
          ]
        }
      ]
    },
    {
      "cell_type": "markdown",
      "metadata": {
        "id": "XOneLUWpKRcP"
      },
      "source": [
        "<b>Send the same codewords through the $BSC$ and get the Error rates and store in a list for the later usage.</b>"
      ]
    },
    {
      "cell_type": "markdown",
      "metadata": {
        "id": "UlzhQnJlKUv7"
      },
      "source": [
        "Now to compare each scenario we will plot Error probability Vs $N_e$ in a graph. Using Matplotlib"
      ]
    },
    {
      "cell_type": "code",
      "metadata": {
        "id": "Dnl2lWvLKqq3"
      },
      "source": [
        "import matplotlib.pyplot as plt"
      ],
      "execution_count": 12,
      "outputs": []
    },
    {
      "cell_type": "code",
      "metadata": {
        "id": "FMbXKvaX5xo8",
        "colab": {
          "base_uri": "https://localhost:8080/",
          "height": 283
        },
        "outputId": "6c126244-87a0-48e5-d625-7475d42ad4d3"
      },
      "source": [
        "x_axis=[i*0.01 for i in range(0,11)] #the domain for the discrete graph.\n",
        "\n",
        "plt.plot(x_axis,error_rates_list, '-or')\n",
        "plt.axis([0, 0.11, 0, 1])               #Minimize the range to get a better view\n",
        "plt.xlabel('Probabilities')\n",
        "plt.ylabel('Error rates')\n",
        "plt.show()"
      ],
      "execution_count": 13,
      "outputs": [
        {
          "output_type": "display_data",
          "data": {
            "image/png": "[encoded data removed]",
            "text/plain": [
              "<Figure size 432x288 with 1 Axes>"
            ]
          },
          "metadata": {
            "needs_background": "light"
          }
        }
      ]
    },
    {
      "cell_type": "markdown",
      "metadata": {
        "id": "PCDcq1KKKtxI"
      },
      "source": [
        "<b> We can see the error rate is increasing with the error probability. But it is not linear. For the $p=0$ we get zero error rate as intended.</b>"
      ]
    },
    {
      "cell_type": "markdown",
      "metadata": {
        "id": "L4fDwVQhLGBc"
      },
      "source": [
        "<hr>\n",
        "<center><h1>Now we will impliment the Stop and Wait ARQ</h1></center>\n",
        "\n"
      ]
    },
    {
      "cell_type": "markdown",
      "metadata": {
        "id": "xqXj4Ow18hCY"
      },
      "source": [
        "<hr>\n",
        "\n",
        "$Question \\space g$\n",
        "\n",
        "To Impliment the ARQ process, first we will implement the encapsulation and decapsulation process.\n",
        "\n",
        "The $encapsulation$ and $decapsulation$ functions will add or remove SN/RN at the required places. The SN/RN will have 8 bits to consider.\n",
        "Since we are not considering any package losts in this ARQ, we will take the time out to be\n",
        "\n",
        "$$ Time\\;out=(Propergation\\;delay + Transmission\\;delay)\\times2 $$\n",
        "\n",
        "$$ = 80\\mu S$$"
      ]
    },
    {
      "cell_type": "code",
      "metadata": {
        "id": "Uj9M-SOR8f2W"
      },
      "source": [
        "def encapsulation(dataword, num):\n",
        "    ## add the RN/SN at the \n",
        "    ## end of the dataword\n",
        "\n",
        "    ## convert the RN/SN into bit string\n",
        "    bitArray = bin(num).replace('0b','')\n",
        "    x = bitArray[::-1]\n",
        "\n",
        "    while len(x) < 8:\n",
        "        x += '0'\n",
        "    bitArray = x[::-1]\n",
        "\n",
        "    return dataword + bitArray\n",
        "  \n",
        "def decapsulation(frame):\n",
        "    ## remove the RN/SN from the dataword \n",
        "    return frame[:-8]"
      ],
      "execution_count": 14,
      "outputs": []
    },
    {
      "cell_type": "markdown",
      "metadata": {
        "id": "bkzWuzuP9ea2"
      },
      "source": [
        "We are using global varables to communicate between the sender and reciver functions. So we need to initialize or reset those variables for each transmission process.\n",
        "$initialize$ function will take the channel bit error probability and initialize the required variables upon call."
      ]
    },
    {
      "cell_type": "code",
      "metadata": {
        "id": "vlfNzCSC9xxm"
      },
      "source": [
        "def initialize(probability):\n",
        "    ## initialize the global variables\n",
        "    global p, sequence_num, RN, sent_frames, SN_overload, divisor, encoded_feedback_frame, retrns\n",
        "    \n",
        "    p = probability                                         #error probability\n",
        "    sequence_num = 0                                        #set initial sequence number as 0\n",
        "    RN = 0                                                  #set initial request number as 0\n",
        "    sent_frames = 0                                         #total no. of successful transmissions\n",
        "    SN_overload = False                                     #sequence number bits reached it's max capacity(overflow)\n",
        "    divisor = '100000111'                                   #CRC divisor\n",
        "    encoded_feedback_frame = '{:032b}'.format(0)            #as initial RN set 0, inital feedback encoded frame as zeros \n",
        "    retrns = 0                                              #The number of failed attempts."
      ],
      "execution_count": 15,
      "outputs": []
    },
    {
      "cell_type": "markdown",
      "metadata": {
        "id": "EWhAS2On-F1f"
      },
      "source": [
        "<b> The $SN\\_overload$ is there to check if there are more then 256 codewords. Becouse we cannot represent a number larger then 256 with the given byte. So it will take care a scenario in a case you need to send more than 256 codewords</b>"
      ]
    },
    {
      "cell_type": "markdown",
      "metadata": {
        "id": "wWkdMPAJ_Mgz"
      },
      "source": [
        "Now we will define core functions for our Stop and Wait ARQ. Here we thought of adding a real time delays to the algorithm, for both propagation and transmission there are delays of $25\\mu S$ and $15\\mu S$ for both directions.\n",
        "\n",
        "We will be using the in-built library $time$ and from that, we will use $sleep$ function to give respective time delays."
      ]
    },
    {
      "cell_type": "code",
      "metadata": {
        "id": "MSoTN1mDAv0q"
      },
      "source": [
        "from time import sleep"
      ],
      "execution_count": 16,
      "outputs": []
    },
    {
      "cell_type": "code",
      "metadata": {
        "id": "fHXXxDgu_crO"
      },
      "source": [
        "def transmissionDelay():                    #transmission delay 25us, both direction\n",
        "    sleep(25/1000000)\n",
        "    return\n",
        "\n",
        "def propagationDelay():                     #propagation delay 15us, both direction\n",
        "    sleep(15/1000000)\n",
        "    return\n",
        "\n",
        "def sender():\n",
        "    ## this function will handle all the operations\n",
        "    ## carried by the sending end\n",
        "\n",
        "    global snd_codeword, frame, sequence_num, sent_frames, encoded_feedback_frame, SN_overload, retrns\n",
        "\n",
        "    ## recieving ACK through BSC\n",
        "    rcv_RN = BSC(encoded_feedback_frame, p)\n",
        "\n",
        "    ## decoding recieved ACK w.r.t common divisor                                   \n",
        "    decoded_RN = decode(rcv_RN, divisor)[0]\n",
        "\n",
        "    ## if decoded ACK don't have an error, convert it to integer\n",
        "    ## if SN<RN or SN bits overflowed, \n",
        "    ## increment the succuessfully transmitted frames and assign SN = RN\n",
        "    if decoded_RN != 'error': \n",
        "        decoded_IntRN = int(decoded_RN[-8:],2) \n",
        "\n",
        "        if sequence_num<decoded_IntRN or SN_overload:\n",
        "          sequence_num = decoded_IntRN\n",
        "\n",
        "          ## sender will keep the count of the frames\n",
        "          ## succussfully sent                                 \n",
        "          sent_frames +=1\n",
        "\n",
        "\n",
        "        if sequence_num ==255:\n",
        "\n",
        "          ## if SN reached it's max capacity sender will\n",
        "          ## set the SN_overload as True\n",
        "          SN_overload = True\n",
        "\n",
        "        else:\n",
        "          SN_overload = False\n",
        "    else:\n",
        "        retrns += 1\n",
        "    \n",
        "\n",
        "    ## take the (sent_frame-1)th frame from the buffer \n",
        "    ## and encapsulate with SN\n",
        "    frame = encapsulation(buffer_data[sent_frames-1], sequence_num)  \n",
        "\n",
        "    #encode the encapsulated frame(dataword+SN+CRC)\n",
        "    snd_codeword = encode(frame,divisor)  \n",
        "\n",
        "    transmissionDelay()\n",
        "    propagationDelay()\n",
        "\n",
        "    return None\n",
        "\n",
        "def reciever():\n",
        "    ## this function will handle all the operations\n",
        "    ## carried by the recieving end\n",
        "\n",
        "    global rcv_codeword, RN, encoded_feedback_frame, retrns\n",
        "    \n",
        "    ## recieving the encoded frame through the BSC\n",
        "    ## decode the recieved encoded frame w.r.t common divisor\n",
        "    rcv_codeword = BSC(snd_codeword, p)                            \n",
        "    decoded_codeword = decode(rcv_codeword,divisor)[0]                \n",
        "\n",
        "    ## if recieved encoded frame decoded succussfully \n",
        "    ## fetch the SN out and check with RN\n",
        "    if decoded_codeword !='error':\n",
        "        if RN == int(decoded_codeword[-8:],2):\n",
        "\n",
        "           ## if RN does not reach the max limit increament the RN\n",
        "           ## if RN reached the max, set RN = 0                       \n",
        "            if RN != 255:                                           \n",
        "              RN += 1\n",
        "            else:                                                   \n",
        "              RN = 0 \n",
        "\n",
        "              ## successfully transmitted dataword \n",
        "              ## which is eligible to pass to the network layer          \n",
        "            networklayer_dataword = decapsulation(decoded_codeword)  \n",
        "            #print(networklayer_dataword)\n",
        "    else:\n",
        "        retrns += 1\n",
        "    \n",
        "    ## assume feedback side dataword as 0 \n",
        "    ## and encapsulate RN with that dataword\n",
        "    ## encode feedback_frame w.r.t common divisor\n",
        "    feedback_frame = encapsulation('{:016b}'.format(0),RN)\n",
        "    encoded_feedback_frame = encode(feedback_frame,divisor) \n",
        "\n",
        "\n",
        "    transmissionDelay()\n",
        "    propagationDelay()\n",
        "\n",
        "    return"
      ],
      "execution_count": 17,
      "outputs": []
    },
    {
      "cell_type": "markdown",
      "metadata": {
        "id": "9C7xTui7BCAs"
      },
      "source": [
        "<b> Here we have all the required buildings blocks to implement a Stop and Wait ARQ.</b>"
      ]
    },
    {
      "cell_type": "markdown",
      "metadata": {
        "id": "G4p92WXdBcs1"
      },
      "source": [
        "<hr>\n",
        "\n",
        "$Question \\space h$\n",
        "\n",
        "We will genarate 256 16bit datawords randomly."
      ]
    },
    {
      "cell_type": "code",
      "metadata": {
        "id": "mqad2MMIE3-Q"
      },
      "source": [
        "## initilize 256 bit strings with 2bytes long \n",
        "buffer_data =['{0:016b}'.format(random.getrandbits(16)) for i in range(256) ]"
      ],
      "execution_count": 18,
      "outputs": []
    },
    {
      "cell_type": "markdown",
      "metadata": {
        "id": "EDISCXSDFPrP"
      },
      "source": [
        "Now we will do a transmission for bit error probability,\n",
        "\n",
        "$$p=0.0002$$\n",
        "For that we will call the $initialize$ function with parameter 0.0002.\n"
      ]
    },
    {
      "cell_type": "code",
      "metadata": {
        "id": "DxxlY6J_FvLB",
        "colab": {
          "base_uri": "https://localhost:8080/"
        },
        "outputId": "3fe90974-dcc9-4a14-e04b-ae01d6dab533"
      },
      "source": [
        "initialize(0.0002)\n",
        "\n",
        "## main function where accual transmission happens\n",
        "while True:\n",
        "  ## send and recieve frames reach untill the the condition met                                   \n",
        "  sender()\n",
        "  reciever()\n",
        "\n",
        "  #print(f'frame recieved {sent_frames}')\n",
        "\n",
        "  ## if total sent frames are equal to buffer data length \n",
        "  ## stop the transmission                              \n",
        "  if sent_frames == len(buffer_data):\n",
        "    print(f'no. of retransmissions with error probability {p} : {retrns}')          \n",
        "    break"
      ],
      "execution_count": 19,
      "outputs": [
        {
          "output_type": "stream",
          "name": "stdout",
          "text": [
            "no. of retransmissions with error probability 0.0002 : 5\n"
          ]
        }
      ]
    },
    {
      "cell_type": "markdown",
      "metadata": {
        "id": "uMA6CGxkF2gg"
      },
      "source": [
        "<b> We will get how many retransmissions were required to transmit all 256 frames from sender to reciver.\n",
        "The expected number of <u>retransmissions</u> required for a codeword to be sent,</b>\n",
        "\n",
        "$$Expected\\;of\\;retransmissions=\\frac{Number\\;of\\;total\\;retransmissons}{Total\\; nuumber \\; of\\; codewords}$$\n",
        "\n",
        "$$Expected\\;value\\;of\\;retransmissions=\\frac{5}{256}$$\n",
        "\n",
        "$$Expected\\;value\\;of\\;retransmissions=1.953125\\times10^{-2}$$\n"
      ]
    },
    {
      "cell_type": "markdown",
      "metadata": {
        "id": "zajpbOzXGMBp"
      },
      "source": [
        "<hr>\n",
        "\n",
        "$Question \\space i$\n",
        "\n",
        "Now we will do a new transmission with bit error probability in the channel,\n",
        "\n",
        "$$p=0.0006$$\n",
        "\n",
        "It will use the same above mentioned steps with exception of the paramiter passed to the $initialize$ function."
      ]
    },
    {
      "cell_type": "code",
      "metadata": {
        "id": "V5d2GWIlIHjL",
        "colab": {
          "base_uri": "https://localhost:8080/"
        },
        "outputId": "90e81108-8b5a-4b3b-9925-f9789fb303b0"
      },
      "source": [
        "initialize(0.0006)\n",
        "\n",
        "## main function where accual transmission happens\n",
        "while True:\n",
        "  ## send and recieve frames reach untill the the condition met                                   \n",
        "  sender()\n",
        "  reciever()\n",
        "\n",
        "  #print(f'frame recieved {sent_frames}')\n",
        "\n",
        "  ## if total sent frames are equal to buffer data length \n",
        "  ## stop the transmission                              \n",
        "  if sent_frames == len(buffer_data):\n",
        "    print(f'no. of retransmissions with error probability {p} : {retrns}')          \n",
        "    break"
      ],
      "execution_count": 40,
      "outputs": [
        {
          "output_type": "stream",
          "name": "stdout",
          "text": [
            "no. of retransmissions with error probability 0.0006 : 11\n"
          ]
        }
      ]
    },
    {
      "cell_type": "markdown",
      "metadata": {
        "id": "nw_iusI-IaFk"
      },
      "source": [
        "<b>\n",
        "\n",
        "$$Expected\\;value\\;of\\;retransmissions=\\frac{11}{256}$$\n",
        "\n",
        "$$Expected\\;value\\;of\\;retransmissions=4.296875\\times10^{-2}$$\n",
        "\n",
        "We can see that the expected number for a codeword to transmit through the channel has been increased. It is as expected becouse the bit error probability has increased.</b>"
      ]
    },
    {
      "cell_type": "markdown",
      "metadata": {
        "id": "eTdeKXBWJBN0"
      },
      "source": [
        "<hr>\n",
        "\n",
        "$Question \\space h$\n",
        "\n",
        "We can get the channel efficiency from the simulated data. Since we have the expencted values of successful codeword transmissions we can give the channel efficiency by the equation,\n",
        "\n",
        "$$Channel\\; utilization =\\frac{Transmission\\; delay}{(Propergation\\;delay+Transmission\\;delay)\\times2\\times{Expected\\;Value}}$$\n",
        "\n",
        "\n",
        "for \n",
        "\n",
        "$$p=0.0002$$\n",
        "\n",
        "$$Expected\\;value(from\\;simulation)=\\frac{256+5}{256}$$\n",
        "$$=1.01953125$$\n",
        "\n",
        "$$Channel\\; utilization =\\frac{25\\mu S}{(15\\mu S+25\\mu S)\\times2\\times{1.01953125}}$$\n",
        "\n",
        "$$=30.651341 \\,\\%$$\n",
        "\n",
        "for \n",
        "\n",
        "$$p=0.0006$$\n",
        "\n",
        "$$Expected\\;value(from\\;simulation)=\\frac{256+11}{256}$$\n",
        "$$=1.04296875$$\n",
        "\n",
        "$$Channel\\; utilization =\\frac{25\\mu S}{(15\\mu S+25\\mu S)\\times2\\times{1.04296875}}$$\n",
        "\n",
        "$$=29.96254682\\,\\%$$\n"
      ]
    }
  ]
}